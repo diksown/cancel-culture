{
  "cells": [
    {
      "attachments": {},
      "cell_type": "markdown",
      "metadata": {
        "id": "jafASYmA3U4x"
      },
      "source": [
        "## **Desafio de Classificação:**\n",
        "\n",
        "Utilizando a metodologia básica de um projeto para ciência de dados, implemente possíveis soluções para o seguinte estudo de caso (https://www.kaggle.com/datasets/ahsan81/hotel-reservations-classification-dataset?resource=download). Desenvolva e implemente métodos que se propõem a responder a questão: **Será que um hóspede irá cancelar sua reserva?**\n",
        "\n",
        "Em seu projeto deverá constar uma análise detalhada do dataset e descrição das transformações de dados realizadas com suas respectivas justificativas. Adicionalmente, crie um baseline com as técnicas contidas nesta aula. Como forma de superar este baseline, pesquise por métodos e técnicas mais complexas. Você deverá entregar um relatório com os seguintes itens:\n",
        "\n",
        "- Descrição do problema e análise dos dados\n",
        "- Descrição das técnicas utilizadas\n",
        "- Interpretação dos resultados obtidos\n",
        "- Conclusão\n",
        "- Apêndice (descrição das técnicas de Classificação apresentadas pelos colegas durante os seminários)\n",
        "\n",
        "Adicionalmente, no relatório coloque a url de seu repositório on-line para consulta. Seu código deve estar comentado!!\n",
        "\n",
        "Sistema de Avaliação:\n",
        "\n",
        "- (1,0) Qualidade do relatório\n",
        "- (1,0) Análise dos dados e descrição do problema\n",
        "- (3,0) Implementação da solução\n",
        "- (3,0) Interpretação dos resultados\n",
        "- (2,0) Resumo das técnicas dos seminários de Classificação\n"
      ]
    },
    {
      "attachments": {},
      "cell_type": "markdown",
      "metadata": {
        "id": "x3o0SgSHbmV1"
      },
      "source": [
        "# Cancel Culture\n",
        "\n",
        "This is a project intended to predict whether or not a client will cancel a reservation. The data comes from a Kaggle dataset, and we will use many common ML algorithms and make comparison between them.\n",
        "\n",
        "### Table of Contents\n",
        "\n",
        "- [Introduction](##Introduction)\n",
        "- [Exploratory Data Analysis](##Exploratory-Data-Analysis)\n"
      ]
    },
    {
      "attachments": {},
      "cell_type": "markdown",
      "metadata": {
        "id": "6Q7OaQn73zg3"
      },
      "source": [
        "## Introduction\n",
        "\n",
        "{this is a project that looks to predict whether or not a client will cancel a reservation}\n",
        "\n",
        "{we use the kaggle.com/blah dataset}\n",
        "\n",
        "{we do: exploratory data analysis}\n",
        "\n",
        "{model training: knn, svm...}\n",
        "\n",
        "{data interpretation and conclusion}\n"
      ]
    },
    {
      "attachments": {},
      "cell_type": "markdown",
      "metadata": {
        "id": "LJlmLu40cIYI"
      },
      "source": [
        "## Exploratory Data Analysis & Pre-processing\n"
      ]
    },
    {
      "cell_type": "code",
      "execution_count": 1,
      "metadata": {},
      "outputs": [],
      "source": [
        "# Import libraries\n",
        "import pandas as pd\n",
        "import numpy as np\n",
        "from sklearn.preprocessing import LabelEncoder\n",
        "from sklearn.model_selection import (\n",
        "    KFold,\n",
        "    StratifiedKFold,\n",
        "    cross_val_score,\n",
        "    train_test_split,\n",
        ")\n",
        "from sklearn.neighbors import KNeighborsClassifier\n",
        "from sklearn.naive_bayes import GaussianNB\n",
        "from sklearn.linear_model import LogisticRegression\n",
        "from sklearn.svm import SVC\n",
        "from sklearn import tree\n",
        "from sklearn.ensemble import (\n",
        "    RandomForestClassifier,\n",
        "    BaggingClassifier,\n",
        "    AdaBoostClassifier,\n",
        ")\n",
        "from xgboost import XGBClassifier\n",
        "\n",
        "from imblearn.over_sampling import RandomOverSampler"
      ]
    },
    {
      "cell_type": "code",
      "execution_count": 2,
      "metadata": {},
      "outputs": [
        {
          "data": {
            "text/html": [
              "<div>\n",
              "<style scoped>\n",
              "    .dataframe tbody tr th:only-of-type {\n",
              "        vertical-align: middle;\n",
              "    }\n",
              "\n",
              "    .dataframe tbody tr th {\n",
              "        vertical-align: top;\n",
              "    }\n",
              "\n",
              "    .dataframe thead th {\n",
              "        text-align: right;\n",
              "    }\n",
              "</style>\n",
              "<table border=\"1\" class=\"dataframe\">\n",
              "  <thead>\n",
              "    <tr style=\"text-align: right;\">\n",
              "      <th></th>\n",
              "      <th>Booking_ID</th>\n",
              "      <th>no_of_adults</th>\n",
              "      <th>no_of_children</th>\n",
              "      <th>no_of_weekend_nights</th>\n",
              "      <th>no_of_week_nights</th>\n",
              "      <th>type_of_meal_plan</th>\n",
              "      <th>required_car_parking_space</th>\n",
              "      <th>room_type_reserved</th>\n",
              "      <th>lead_time</th>\n",
              "      <th>arrival_year</th>\n",
              "      <th>arrival_month</th>\n",
              "      <th>arrival_date</th>\n",
              "      <th>market_segment_type</th>\n",
              "      <th>repeated_guest</th>\n",
              "      <th>no_of_previous_cancellations</th>\n",
              "      <th>no_of_previous_bookings_not_canceled</th>\n",
              "      <th>avg_price_per_room</th>\n",
              "      <th>no_of_special_requests</th>\n",
              "      <th>booking_status</th>\n",
              "    </tr>\n",
              "  </thead>\n",
              "  <tbody>\n",
              "    <tr>\n",
              "      <th>0</th>\n",
              "      <td>INN00001</td>\n",
              "      <td>2</td>\n",
              "      <td>0</td>\n",
              "      <td>1</td>\n",
              "      <td>2</td>\n",
              "      <td>Meal Plan 1</td>\n",
              "      <td>0</td>\n",
              "      <td>Room_Type 1</td>\n",
              "      <td>224</td>\n",
              "      <td>2017</td>\n",
              "      <td>10</td>\n",
              "      <td>2</td>\n",
              "      <td>Offline</td>\n",
              "      <td>0</td>\n",
              "      <td>0</td>\n",
              "      <td>0</td>\n",
              "      <td>65.00</td>\n",
              "      <td>0</td>\n",
              "      <td>Not_Canceled</td>\n",
              "    </tr>\n",
              "    <tr>\n",
              "      <th>1</th>\n",
              "      <td>INN00002</td>\n",
              "      <td>2</td>\n",
              "      <td>0</td>\n",
              "      <td>2</td>\n",
              "      <td>3</td>\n",
              "      <td>Not Selected</td>\n",
              "      <td>0</td>\n",
              "      <td>Room_Type 1</td>\n",
              "      <td>5</td>\n",
              "      <td>2018</td>\n",
              "      <td>11</td>\n",
              "      <td>6</td>\n",
              "      <td>Online</td>\n",
              "      <td>0</td>\n",
              "      <td>0</td>\n",
              "      <td>0</td>\n",
              "      <td>106.68</td>\n",
              "      <td>1</td>\n",
              "      <td>Not_Canceled</td>\n",
              "    </tr>\n",
              "    <tr>\n",
              "      <th>2</th>\n",
              "      <td>INN00003</td>\n",
              "      <td>1</td>\n",
              "      <td>0</td>\n",
              "      <td>2</td>\n",
              "      <td>1</td>\n",
              "      <td>Meal Plan 1</td>\n",
              "      <td>0</td>\n",
              "      <td>Room_Type 1</td>\n",
              "      <td>1</td>\n",
              "      <td>2018</td>\n",
              "      <td>2</td>\n",
              "      <td>28</td>\n",
              "      <td>Online</td>\n",
              "      <td>0</td>\n",
              "      <td>0</td>\n",
              "      <td>0</td>\n",
              "      <td>60.00</td>\n",
              "      <td>0</td>\n",
              "      <td>Canceled</td>\n",
              "    </tr>\n",
              "    <tr>\n",
              "      <th>3</th>\n",
              "      <td>INN00004</td>\n",
              "      <td>2</td>\n",
              "      <td>0</td>\n",
              "      <td>0</td>\n",
              "      <td>2</td>\n",
              "      <td>Meal Plan 1</td>\n",
              "      <td>0</td>\n",
              "      <td>Room_Type 1</td>\n",
              "      <td>211</td>\n",
              "      <td>2018</td>\n",
              "      <td>5</td>\n",
              "      <td>20</td>\n",
              "      <td>Online</td>\n",
              "      <td>0</td>\n",
              "      <td>0</td>\n",
              "      <td>0</td>\n",
              "      <td>100.00</td>\n",
              "      <td>0</td>\n",
              "      <td>Canceled</td>\n",
              "    </tr>\n",
              "    <tr>\n",
              "      <th>4</th>\n",
              "      <td>INN00005</td>\n",
              "      <td>2</td>\n",
              "      <td>0</td>\n",
              "      <td>1</td>\n",
              "      <td>1</td>\n",
              "      <td>Not Selected</td>\n",
              "      <td>0</td>\n",
              "      <td>Room_Type 1</td>\n",
              "      <td>48</td>\n",
              "      <td>2018</td>\n",
              "      <td>4</td>\n",
              "      <td>11</td>\n",
              "      <td>Online</td>\n",
              "      <td>0</td>\n",
              "      <td>0</td>\n",
              "      <td>0</td>\n",
              "      <td>94.50</td>\n",
              "      <td>0</td>\n",
              "      <td>Canceled</td>\n",
              "    </tr>\n",
              "  </tbody>\n",
              "</table>\n",
              "</div>"
            ],
            "text/plain": [
              "  Booking_ID  no_of_adults  no_of_children  no_of_weekend_nights   \n",
              "0   INN00001             2               0                     1  \\\n",
              "1   INN00002             2               0                     2   \n",
              "2   INN00003             1               0                     2   \n",
              "3   INN00004             2               0                     0   \n",
              "4   INN00005             2               0                     1   \n",
              "\n",
              "   no_of_week_nights type_of_meal_plan  required_car_parking_space   \n",
              "0                  2       Meal Plan 1                           0  \\\n",
              "1                  3      Not Selected                           0   \n",
              "2                  1       Meal Plan 1                           0   \n",
              "3                  2       Meal Plan 1                           0   \n",
              "4                  1      Not Selected                           0   \n",
              "\n",
              "  room_type_reserved  lead_time  arrival_year  arrival_month  arrival_date   \n",
              "0        Room_Type 1        224          2017             10             2  \\\n",
              "1        Room_Type 1          5          2018             11             6   \n",
              "2        Room_Type 1          1          2018              2            28   \n",
              "3        Room_Type 1        211          2018              5            20   \n",
              "4        Room_Type 1         48          2018              4            11   \n",
              "\n",
              "  market_segment_type  repeated_guest  no_of_previous_cancellations   \n",
              "0             Offline               0                             0  \\\n",
              "1              Online               0                             0   \n",
              "2              Online               0                             0   \n",
              "3              Online               0                             0   \n",
              "4              Online               0                             0   \n",
              "\n",
              "   no_of_previous_bookings_not_canceled  avg_price_per_room   \n",
              "0                                     0               65.00  \\\n",
              "1                                     0              106.68   \n",
              "2                                     0               60.00   \n",
              "3                                     0              100.00   \n",
              "4                                     0               94.50   \n",
              "\n",
              "   no_of_special_requests booking_status  \n",
              "0                       0   Not_Canceled  \n",
              "1                       1   Not_Canceled  \n",
              "2                       0       Canceled  \n",
              "3                       0       Canceled  \n",
              "4                       0       Canceled  "
            ]
          },
          "execution_count": 2,
          "metadata": {},
          "output_type": "execute_result"
        }
      ],
      "source": [
        "# Load dataset\n",
        "df = pd.read_csv(\"./hotel_reservations.csv\")\n",
        "df.head()"
      ]
    },
    {
      "attachments": {},
      "cell_type": "markdown",
      "metadata": {},
      "source": [
        "Lets get started with the analysis!\n",
        "\n",
        "First, let's check our attributes in a more readable way:\n"
      ]
    },
    {
      "cell_type": "code",
      "execution_count": 3,
      "metadata": {},
      "outputs": [
        {
          "name": "stdout",
          "output_type": "stream",
          "text": [
            "<class 'pandas.core.frame.DataFrame'>\n",
            "RangeIndex: 36275 entries, 0 to 36274\n",
            "Data columns (total 19 columns):\n",
            " #   Column                                Non-Null Count  Dtype  \n",
            "---  ------                                --------------  -----  \n",
            " 0   Booking_ID                            36275 non-null  object \n",
            " 1   no_of_adults                          36275 non-null  int64  \n",
            " 2   no_of_children                        36275 non-null  int64  \n",
            " 3   no_of_weekend_nights                  36275 non-null  int64  \n",
            " 4   no_of_week_nights                     36275 non-null  int64  \n",
            " 5   type_of_meal_plan                     36275 non-null  object \n",
            " 6   required_car_parking_space            36275 non-null  int64  \n",
            " 7   room_type_reserved                    36275 non-null  object \n",
            " 8   lead_time                             36275 non-null  int64  \n",
            " 9   arrival_year                          36275 non-null  int64  \n",
            " 10  arrival_month                         36275 non-null  int64  \n",
            " 11  arrival_date                          36275 non-null  int64  \n",
            " 12  market_segment_type                   36275 non-null  object \n",
            " 13  repeated_guest                        36275 non-null  int64  \n",
            " 14  no_of_previous_cancellations          36275 non-null  int64  \n",
            " 15  no_of_previous_bookings_not_canceled  36275 non-null  int64  \n",
            " 16  avg_price_per_room                    36275 non-null  float64\n",
            " 17  no_of_special_requests                36275 non-null  int64  \n",
            " 18  booking_status                        36275 non-null  object \n",
            "dtypes: float64(1), int64(13), object(5)\n",
            "memory usage: 5.3+ MB\n"
          ]
        }
      ],
      "source": [
        "df.info()"
      ]
    },
    {
      "attachments": {},
      "cell_type": "markdown",
      "metadata": {},
      "source": [
        "Some of these features are categorical (`<object>`), so let's check what these features have!\n"
      ]
    },
    {
      "cell_type": "code",
      "execution_count": 4,
      "metadata": {},
      "outputs": [
        {
          "name": "stdout",
          "output_type": "stream",
          "text": [
            "Booking_ID: (36275 distinct) <INN00001>, <INN00002>, <INN00003>, <INN00004>, <INN00005>, ...\n",
            "type_of_meal_plan: (4 distinct) <Meal Plan 1>, <Meal Plan 2>, <Meal Plan 3>, <Not Selected>\n",
            "room_type_reserved: (7 distinct) <Room_Type 1>, <Room_Type 2>, <Room_Type 3>, <Room_Type 4>, <Room_Type 5>, ...\n",
            "market_segment_type: (5 distinct) <Aviation>, <Complementary>, <Corporate>, <Offline>, <Online>, ...\n",
            "booking_status: (2 distinct) <Canceled>, <Not_Canceled>\n"
          ]
        }
      ],
      "source": [
        "n_top_values = 5\n",
        "for col in df.select_dtypes(include=\"object\"):\n",
        "    unique_values = df[col].nunique()\n",
        "    top_values = sorted(df[col].unique())[:n_top_values]\n",
        "    top_values_str = \", \".join([f\"<{v}>\" for v in top_values])\n",
        "    print(\n",
        "        f\"{col}: ({unique_values} distinct) {top_values_str + ', ...' if len(top_values) == n_top_values else top_values_str}\"\n",
        "    )"
      ]
    },
    {
      "attachments": {},
      "cell_type": "markdown",
      "metadata": {},
      "source": [
        "The `Booking_ID` is meaningless for our algorithms, so we can remove that column.\n",
        "\n",
        "Also, we can convert our categorical features to numerical by using label encoding:\n"
      ]
    },
    {
      "cell_type": "code",
      "execution_count": 5,
      "metadata": {},
      "outputs": [],
      "source": [
        "df.drop(\"Booking_ID\", axis=1, inplace=True)\n",
        "\n",
        "# identify categorical columns\n",
        "cat_cols = df.select_dtypes(include=\"object\").columns\n",
        "\n",
        "# label encode categorical columns\n",
        "for col in cat_cols:\n",
        "    le = LabelEncoder()\n",
        "    df[col] = le.fit_transform(df[col])"
      ]
    },
    {
      "attachments": {},
      "cell_type": "markdown",
      "metadata": {},
      "source": [
        "## Model Training\n"
      ]
    },
    {
      "attachments": {},
      "cell_type": "markdown",
      "metadata": {},
      "source": [
        "### Splitting the dataset\n"
      ]
    },
    {
      "cell_type": "code",
      "execution_count": 6,
      "metadata": {},
      "outputs": [],
      "source": [
        "X = df.drop(\"booking_status\", axis=1)\n",
        "Y = df[\"booking_status\"]\n",
        "\n",
        "ros = RandomOverSampler(random_state=0)\n",
        "X, Y = ros.fit_resample(X, Y)\n",
        "\n",
        "n_folds = 10\n",
        "kf = StratifiedKFold(n_splits=n_folds, shuffle=True, random_state=0)"
      ]
    },
    {
      "attachments": {},
      "cell_type": "markdown",
      "metadata": {},
      "source": [
        "### KNN\n"
      ]
    },
    {
      "cell_type": "code",
      "execution_count": 7,
      "metadata": {},
      "outputs": [
        {
          "name": "stdout",
          "output_type": "stream",
          "text": [
            "Acurácia com 1 K-NN: 0.8937 ± 0.0036\n"
          ]
        }
      ],
      "source": [
        "knn = KNeighborsClassifier(n_neighbors=1)\n",
        "scores = cross_val_score(knn, X, Y, cv=kf, n_jobs=-1)\n",
        "print(\"Acurácia com 1 K-NN: %0.4f ± %0.4f\" % (scores.mean(), scores.std()))"
      ]
    },
    {
      "attachments": {},
      "cell_type": "markdown",
      "metadata": {},
      "source": [
        "### Naive Bayes\n"
      ]
    },
    {
      "cell_type": "code",
      "execution_count": 8,
      "metadata": {},
      "outputs": [
        {
          "name": "stdout",
          "output_type": "stream",
          "text": [
            "Acurácia com Naive-Bayes: 0.5672 ± 0.0032\n"
          ]
        }
      ],
      "source": [
        "nb = GaussianNB()\n",
        "scores = cross_val_score(nb, X, Y, cv=kf, n_jobs=-1)\n",
        "print(\"Acurácia com Naive-Bayes: %0.4f ± %0.4f\" % (scores.mean(), scores.std()))"
      ]
    },
    {
      "attachments": {},
      "cell_type": "markdown",
      "metadata": {},
      "source": [
        "### Regressão Logística\n"
      ]
    },
    {
      "cell_type": "code",
      "execution_count": 9,
      "metadata": {},
      "outputs": [
        {
          "name": "stdout",
          "output_type": "stream",
          "text": [
            "Acurácia com Regressão Logística: 0.7786 ± 0.0051\n"
          ]
        }
      ],
      "source": [
        "rlog = LogisticRegression(max_iter=5000)\n",
        "scores = cross_val_score(rlog, X, Y, cv=kf, n_jobs=-1)\n",
        "print(\"Acurácia com Regressão Logística: %0.4f ± %0.4f\" % (scores.mean(), scores.std()))"
      ]
    },
    {
      "attachments": {},
      "cell_type": "markdown",
      "metadata": {},
      "source": [
        "### SVM\n"
      ]
    },
    {
      "cell_type": "code",
      "execution_count": 10,
      "metadata": {},
      "outputs": [],
      "source": [
        "# svm = SVC(kernel='linear')\n",
        "# scores = cross_val_score(svm, X, Y, cv=kf)\n",
        "# print('Acurácia com SVM Linear: %0.4f +/- %0.4f' % (scores.mean(), scores.std()))\n",
        "\n",
        "# svm = SVC(kernel='rbf')\n",
        "# scores = cross_val_score(svm, X, Y, cv=kf)\n",
        "# print('Acurácia com SVM RBF: %0.4f +/- %0.4f' % (scores.mean(), scores.std()))\n",
        "\n",
        "# svm = SVC(kernel='poly', degree=3)\n",
        "# scores = cross_val_score(svm, X, Y, cv=kf)\n",
        "# print('Acurácia com SVM Poly: %0.4f +/- %0.4f' % (scores.mean(), scores.std()))"
      ]
    },
    {
      "attachments": {},
      "cell_type": "markdown",
      "metadata": {},
      "source": [
        "### Árvore de Decisão\n"
      ]
    },
    {
      "cell_type": "code",
      "execution_count": 11,
      "metadata": {},
      "outputs": [
        {
          "name": "stdout",
          "output_type": "stream",
          "text": [
            "Acurácia com Gini: 0.9264 +/- 0.0038\n",
            "Acurácia com Entropy: 0.9282 +/- 0.0025\n",
            "Acurácia com Gini em 3 níveis: 0.7737 +/- 0.0060\n"
          ]
        }
      ],
      "source": [
        "dct = tree.DecisionTreeClassifier()\n",
        "scores = cross_val_score(dct, X, Y, cv=kf)\n",
        "print(\"Acurácia com Gini: %0.4f ± %0.4f\" % (scores.mean(), scores.std()))\n",
        "\n",
        "dct = tree.DecisionTreeClassifier(criterion=\"entropy\")\n",
        "scores = cross_val_score(dct, X, Y, cv=kf)\n",
        "print(\"Acurácia com Entropy: %0.4f ± %0.4f\" % (scores.mean(), scores.std()))\n",
        "\n",
        "dct = tree.DecisionTreeClassifier(max_depth=3)\n",
        "scores = cross_val_score(dct, X, Y, cv=kf)\n",
        "print(\"Acurácia com Gini em 3 níveis: %0.4f ± %0.4f\" % (scores.mean(), scores.std()))"
      ]
    },
    {
      "attachments": {},
      "cell_type": "markdown",
      "metadata": {},
      "source": [
        "### Random Forest\n"
      ]
    },
    {
      "cell_type": "code",
      "execution_count": 12,
      "metadata": {},
      "outputs": [
        {
          "name": "stdout",
          "output_type": "stream",
          "text": [
            "Acurácia Random Forest: 0.8019 +/- 0.0063\n"
          ]
        }
      ],
      "source": [
        "rf = RandomForestClassifier(n_estimators=200, criterion=\"gini\", max_depth=4)\n",
        "scores = cross_val_score(rf, X, Y, cv=kf)\n",
        "print(\"Acurácia Random Forest: %0.4f ± %0.4f\" % (scores.mean(), scores.std()))"
      ]
    },
    {
      "attachments": {},
      "cell_type": "markdown",
      "metadata": {},
      "source": [
        "### XGBoost\n"
      ]
    },
    {
      "cell_type": "code",
      "execution_count": 13,
      "metadata": {},
      "outputs": [
        {
          "name": "stdout",
          "output_type": "stream",
          "text": [
            "Acurácia com XGBoost: 0.8952 ± 0.0046\n"
          ]
        }
      ],
      "source": [
        "xgb = XGBClassifier()\n",
        "scores = cross_val_score(xgb, X, Y, cv=kf, n_jobs=-1)\n",
        "print(\"Acurácia com XGBoost: %0.4f ± %0.4f\" % (scores.mean(), scores.std()))"
      ]
    }
  ],
  "metadata": {
    "colab": {
      "authorship_tag": "ABX9TyOZ3zycZO5fkwSkMUkib70M",
      "include_colab_link": true,
      "provenance": [],
      "toc_visible": true
    },
    "kernelspec": {
      "display_name": "Python 3",
      "name": "python3"
    },
    "language_info": {
      "codemirror_mode": {
        "name": "ipython",
        "version": 3
      },
      "file_extension": ".py",
      "mimetype": "text/x-python",
      "name": "python",
      "nbconvert_exporter": "python",
      "pygments_lexer": "ipython3",
      "version": "3.10.6"
    }
  },
  "nbformat": 4,
  "nbformat_minor": 0
}
