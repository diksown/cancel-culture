{
  "cells": [
    {
      "attachments": {},
      "cell_type": "markdown",
      "metadata": {
        "id": "jafASYmA3U4x"
      },
      "source": [
        "## **Desafio de Classificação:**\n",
        "\n",
        "Utilizando a metodologia básica de um projeto para ciência de dados, implemente possíveis soluções para o seguinte estudo de caso (https://www.kaggle.com/datasets/ahsan81/hotel-reservations-classification-dataset?resource=download). Desenvolva e implemente métodos que se propõem a responder a questão: **Será que um hóspede irá cancelar sua reserva?**\n",
        "\n",
        "Em seu projeto deverá constar uma análise detalhada do dataset e descrição das transformações de dados realizadas com suas respectivas justificativas. Adicionalmente, crie um baseline com as técnicas contidas nesta aula. Como forma de superar este baseline, pesquise por métodos e técnicas mais complexas. Você deverá entregar um relatório com os seguintes itens:\n",
        "\n",
        "- Descrição do problema e análise dos dados\n",
        "- Descrição das técnicas utilizadas\n",
        "- Interpretação dos resultados obtidos\n",
        "- Conclusão\n",
        "- Apêndice (descrição das técnicas de Classificação apresentadas pelos colegas durante os seminários)\n",
        "\n",
        "Adicionalmente, no relatório coloque a url de seu repositório on-line para consulta. Seu código deve estar comentado!!\n",
        "\n",
        "Sistema de Avaliação:\n",
        "\n",
        "- (1,0) Qualidade do relatório\n",
        "- (1,0) Análise dos dados e descrição do problema\n",
        "- (3,0) Implementação da solução\n",
        "- (3,0) Interpretação dos resultados\n",
        "- (2,0) Resumo das técnicas dos seminários de Classificação\n"
      ]
    },
    {
      "attachments": {},
      "cell_type": "markdown",
      "metadata": {
        "id": "x3o0SgSHbmV1"
      },
      "source": [
        "# Cancel Culture\n",
        "\n",
        "This is a project intended to predict whether or not a client will cancel a reservation. The data comes from a Kaggle dataset, and we will use many common ML algorithms and make comparison between them.\n",
        "\n",
        "### Table of Contents\n",
        "\n",
        "- [Introduction](##Introduction)\n",
        "- [Exploratory Data Analysis](##Exploratory-Data-Analysis)\n"
      ]
    },
    {
      "attachments": {},
      "cell_type": "markdown",
      "metadata": {
        "id": "6Q7OaQn73zg3"
      },
      "source": [
        "## Introduction\n",
        "\n",
        "{this is a project that looks to predict whether or not a client will cancel a reservation}\n",
        "\n",
        "{we use the kaggle.com/blah dataset}\n",
        "\n",
        "{we do: exploratory data analysis}\n",
        "\n",
        "{model training: knn, svm...}\n",
        "\n",
        "{data interpretation and conclusion}\n"
      ]
    },
    {
      "attachments": {},
      "cell_type": "markdown",
      "metadata": {
        "id": "LJlmLu40cIYI"
      },
      "source": [
        "## Exploratory Data Analysis & Pre-processing\n"
      ]
    },
    {
      "cell_type": "code",
      "execution_count": null,
      "metadata": {},
      "outputs": [],
      "source": [
        "# Import libraries\n",
        "import pandas as pd\n",
        "import numpy as np\n",
        "from sklearn.preprocessing import LabelEncoder\n",
        "from sklearn.model_selection import (\n",
        "    KFold,\n",
        "    StratifiedKFold,\n",
        "    cross_val_score,\n",
        "    train_test_split,\n",
        ")\n",
        "from sklearn.neighbors import KNeighborsClassifier\n",
        "from sklearn.naive_bayes import GaussianNB\n",
        "from sklearn.linear_model import LogisticRegression\n",
        "from sklearn.svm import SVC\n",
        "from sklearn import tree\n",
        "from sklearn.ensemble import (\n",
        "    RandomForestClassifier,\n",
        "    BaggingClassifier,\n",
        "    AdaBoostClassifier,\n",
        ")\n",
        "from imblearn.over_sampling import RandomOverSampler"
      ]
    },
    {
      "cell_type": "code",
      "execution_count": null,
      "metadata": {},
      "outputs": [],
      "source": [
        "# Load dataset\n",
        "df = pd.read_csv(\"./hotel_reservations.csv\")\n",
        "df.head()"
      ]
    },
    {
      "attachments": {},
      "cell_type": "markdown",
      "metadata": {},
      "source": [
        "Lets get started with the analysis!\n",
        "\n",
        "First, let's check our attributes in a more readable way:\n"
      ]
    },
    {
      "cell_type": "code",
      "execution_count": null,
      "metadata": {},
      "outputs": [],
      "source": [
        "df.info()"
      ]
    },
    {
      "attachments": {},
      "cell_type": "markdown",
      "metadata": {},
      "source": [
        "Some of these features are categorical (`<object>`), so let's check what these features have!\n"
      ]
    },
    {
      "cell_type": "code",
      "execution_count": null,
      "metadata": {},
      "outputs": [],
      "source": [
        "n_top_values = 5\n",
        "for col in df.select_dtypes(include=\"object\"):\n",
        "    unique_values = df[col].nunique()\n",
        "    top_values = sorted(df[col].unique())[:n_top_values]\n",
        "    top_values_str = \", \".join([f\"<{v}>\" for v in top_values])\n",
        "    print(\n",
        "        f\"{col}: ({unique_values} distinct) {top_values_str + ', ...' if len(top_values) == n_top_values else top_values_str}\"\n",
        "    )"
      ]
    },
    {
      "attachments": {},
      "cell_type": "markdown",
      "metadata": {},
      "source": [
        "The `Booking_ID` is meaningless for our algorithms, so we can remove that column.\n",
        "\n",
        "Also, we can convert our categorical features to numerical by using label encoding:\n"
      ]
    },
    {
      "cell_type": "code",
      "execution_count": null,
      "metadata": {},
      "outputs": [],
      "source": [
        "df.drop(\"Booking_ID\", axis=1, inplace=True)\n",
        "\n",
        "# identify categorical columns\n",
        "cat_cols = df.select_dtypes(include=\"object\").columns\n",
        "\n",
        "# label encode categorical columns\n",
        "for col in cat_cols:\n",
        "    le = LabelEncoder()\n",
        "    df[col] = le.fit_transform(df[col])"
      ]
    },
    {
      "attachments": {},
      "cell_type": "markdown",
      "metadata": {},
      "source": [
        "## Model Training\n"
      ]
    },
    {
      "attachments": {},
      "cell_type": "markdown",
      "metadata": {},
      "source": [
        "### Splitting the dataset\n"
      ]
    },
    {
      "cell_type": "code",
      "execution_count": null,
      "metadata": {},
      "outputs": [],
      "source": [
        "X = df.drop(\"booking_status\", axis=1)\n",
        "Y = df[\"booking_status\"]\n",
        "\n",
        "ros = RandomOverSampler(random_state=0)\n",
        "X, Y = ros.fit_resample(X, Y)\n",
        "\n",
        "n_folds = 30\n",
        "kf = StratifiedKFold(n_splits=n_folds, shuffle=True, random_state=0)"
      ]
    },
    {
      "attachments": {},
      "cell_type": "markdown",
      "metadata": {},
      "source": [
        "### KNN\n"
      ]
    },
    {
      "cell_type": "code",
      "execution_count": null,
      "metadata": {},
      "outputs": [],
      "source": [
        "knn = KNeighborsClassifier(n_neighbors=1)\n",
        "scores = cross_val_score(knn, X, Y, cv=kf, n_jobs=-1)\n",
        "print(\"Acurácia com 1 K-NN: %0.4f ± %0.4f\" % (scores.mean(), scores.std()))"
      ]
    },
    {
      "attachments": {},
      "cell_type": "markdown",
      "metadata": {},
      "source": [
        "### Naive Bayes\n"
      ]
    },
    {
      "cell_type": "code",
      "execution_count": null,
      "metadata": {},
      "outputs": [],
      "source": [
        "nb = GaussianNB()\n",
        "scores = cross_val_score(nb, X, Y, cv=kf, n_jobs=-1)\n",
        "print(\"Acurácia com Naive-Bayes: %0.4f ± %0.4f\" % (scores.mean(), scores.std()))"
      ]
    },
    {
      "attachments": {},
      "cell_type": "markdown",
      "metadata": {},
      "source": [
        "### Regressão Logística\n"
      ]
    },
    {
      "cell_type": "code",
      "execution_count": null,
      "metadata": {},
      "outputs": [],
      "source": [
        "rlog = LogisticRegression(max_iter=1000)\n",
        "scores = cross_val_score(rlog, X, Y, cv=kf, n_jobs=-1)\n",
        "print(\"Acurácia com Regressão Logística: %0.4f ± %0.4f\" % (scores.mean(), scores.std()))"
      ]
    },
    {
      "attachments": {},
      "cell_type": "markdown",
      "metadata": {},
      "source": [
        "### SVM\n"
      ]
    },
    {
      "attachments": {},
      "cell_type": "markdown",
      "metadata": {},
      "source": [
        "### Árvore de Decisão\n"
      ]
    },
    {
      "attachments": {},
      "cell_type": "markdown",
      "metadata": {},
      "source": [
        "### Random Forest\n"
      ]
    },
    {
      "attachments": {},
      "cell_type": "markdown",
      "metadata": {},
      "source": [
        "### CatBoost\n"
      ]
    }
  ],
  "metadata": {
    "colab": {
      "authorship_tag": "ABX9TyOZ3zycZO5fkwSkMUkib70M",
      "include_colab_link": true,
      "provenance": [],
      "toc_visible": true
    },
    "kernelspec": {
      "display_name": "Python 3",
      "name": "python3"
    },
    "language_info": {
      "codemirror_mode": {
        "name": "ipython",
        "version": 3
      },
      "file_extension": ".py",
      "mimetype": "text/x-python",
      "name": "python",
      "nbconvert_exporter": "python",
      "pygments_lexer": "ipython3",
      "version": "3.10.6"
    }
  },
  "nbformat": 4,
  "nbformat_minor": 0
}
