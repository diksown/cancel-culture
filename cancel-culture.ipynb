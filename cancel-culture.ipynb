{
  "nbformat": 4,
  "nbformat_minor": 0,
  "metadata": {
    "colab": {
      "provenance": [],
      "toc_visible": true,
      "authorship_tag": "ABX9TyOZ3zycZO5fkwSkMUkib70M",
      "include_colab_link": true
    },
    "kernelspec": {
      "name": "python3",
      "display_name": "Python 3"
    },
    "language_info": {
      "name": "python"
    }
  },
  "cells": [
    {
      "cell_type": "markdown",
      "metadata": {
        "id": "view-in-github",
        "colab_type": "text"
      },
      "source": [
        "<a href=\"https://colab.research.google.com/github/diksown/cancel-culture/blob/main/cancel-culture.ipynb\" target=\"_parent\"><img src=\"https://colab.research.google.com/assets/colab-badge.svg\" alt=\"Open In Colab\"/></a>"
      ]
    },
    {
      "cell_type": "markdown",
      "source": [
        "# **Desafio de Classificação:**\n",
        "\n",
        "\n",
        "Utilizando a metodologia básica de um projeto para ciência de dados, implemente possíveis soluções para o seguinte estudo de caso (https://www.kaggle.com/datasets/ahsan81/hotel-reservations-classification-dataset?resource=download). Desenvolva e implemente métodos que se propõem a responder a questão: **Será que um hóspede irá cancelar sua reserva?**\n",
        "\n",
        "Em seu projeto deverá constar uma análise detalhada do dataset e descrição das transformações de dados realizadas com suas respectivas justificativas. Adicionalmente, crie um baseline com as técnicas contidas nesta aula. Como forma de superar este baseline, pesquise por métodos e técnicas mais complexas. Você deverá entregar um relatório com os seguintes itens:\n",
        "- Descrição do problema e análise dos dados\n",
        "- Descrição das técnicas utilizadas\n",
        "- Interpretação dos resultados obtidos\n",
        "- Conclusão\n",
        "- Apêndice (descrição das técnicas de Classificação apresentadas pelos colegas durante os seminários)\n",
        "\n",
        "Adicionalmente, no relatório coloque a url de seu repositório on-line para consulta. Seu código deve estar comentado!!\n",
        "\n",
        "Sistema de Avaliação:\n",
        "- (1,0) Qualidade do relatório\n",
        "- (1,0) Análise dos dados e descrição do problema\n",
        "- (3,0) Implementação da solução\n",
        "- (3,0) Interpretação dos resultados\n",
        "- (2,0) Resumo das técnicas dos seminários de Classificação"
      ],
      "metadata": {
        "id": "jafASYmA3U4x"
      }
    },
    {
      "cell_type": "markdown",
      "source": [
        "## Cancel Culture\n",
        "\n",
        "This is a project intended to predict whether or not a client will cancel a reservation. The data comes from a Kaggle dataset, and we will use many common ML algorithms and make comparison between them.\n",
        "\n",
        "### Table of Contents\n",
        "\n",
        "- [Introduction](##Introduction)\n",
        "- [Exploratory Data Analysis](##Exploratory-Data-Analysis)"
      ],
      "metadata": {
        "id": "x3o0SgSHbmV1"
      }
    },
    {
      "cell_type": "markdown",
      "source": [
        "## Introduction\n",
        "\n",
        "{this is a project that looks to predict whether or not a client will cancel a reservation}\n",
        "\n",
        "{we use the kaggle.com/blah dataset}\n",
        "\n",
        "{we do: exploratory data analysis}\n",
        "\n",
        "{model training: knn,  svm...}\n",
        "\n",
        "{data interpretation and conclusion}\n",
        "\n"
      ],
      "metadata": {
        "id": "6Q7OaQn73zg3"
      }
    },
    {
      "cell_type": "markdown",
      "source": [
        "## Exploratory Data Analysis"
      ],
      "metadata": {
        "id": "LJlmLu40cIYI"
      }
    },
    {
      "cell_type": "markdown",
      "source": [
        "## Pre-Processing"
      ],
      "metadata": {
        "id": "BjHninoagnfO"
      }
    }
  ]
}