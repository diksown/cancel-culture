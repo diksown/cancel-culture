{
  "cells": [
    {
      "attachments": {},
      "cell_type": "markdown",
      "metadata": {},
      "source": [
        "**SCC0277 - Data Science Competitions:** Classification Challenge\n",
        "\n",
        "**Author:** Dikson F. Santos `<dikson@usp.br>`\n"
      ]
    },
    {
      "attachments": {},
      "cell_type": "markdown",
      "metadata": {
        "id": "6Q7OaQn73zg3"
      },
      "source": [
        "# Introduction\n",
        "\n",
        "This is a project intended to predict whether or not a client will cancel a reservation. The data comes from a Kaggle dataset, and we will use many common ML algorithms and discuss about their performance in this particular dataset. We also talk about how we could improve this baseline by using more advanced techniques.\n"
      ]
    },
    {
      "attachments": {},
      "cell_type": "markdown",
      "metadata": {
        "id": "LJlmLu40cIYI"
      },
      "source": [
        "# Exploratory Data Analysis & Pre-processing\n"
      ]
    },
    {
      "attachments": {},
      "cell_type": "markdown",
      "metadata": {},
      "source": [
        "We're going to get our hands on the data. Firstly, let's import the necessary libraries.\n"
      ]
    },
    {
      "cell_type": "code",
      "execution_count": 1,
      "metadata": {},
      "outputs": [],
      "source": [
        "import pandas as pd\n",
        "\n",
        "from sklearn.preprocessing import LabelEncoder\n",
        "from sklearn.model_selection import StratifiedKFold, cross_val_score\n",
        "from sklearn.neighbors import KNeighborsClassifier\n",
        "from sklearn.naive_bayes import GaussianNB\n",
        "from sklearn.linear_model import LogisticRegression\n",
        "from sklearn.svm import SVC\n",
        "from sklearn import tree\n",
        "from sklearn.ensemble import RandomForestClassifier\n",
        "from sklearn.metrics import confusion_matrix\n",
        "\n",
        "import time\n",
        "\n",
        "from imblearn.over_sampling import RandomOverSampler"
      ]
    },
    {
      "attachments": {},
      "cell_type": "markdown",
      "metadata": {},
      "source": [
        "Now we are going to load the dataset and check what's on it.\n"
      ]
    },
    {
      "cell_type": "code",
      "execution_count": 2,
      "metadata": {},
      "outputs": [
        {
          "data": {
            "text/html": [
              "<div>\n",
              "<style scoped>\n",
              "    .dataframe tbody tr th:only-of-type {\n",
              "        vertical-align: middle;\n",
              "    }\n",
              "\n",
              "    .dataframe tbody tr th {\n",
              "        vertical-align: top;\n",
              "    }\n",
              "\n",
              "    .dataframe thead th {\n",
              "        text-align: right;\n",
              "    }\n",
              "</style>\n",
              "<table border=\"1\" class=\"dataframe\">\n",
              "  <thead>\n",
              "    <tr style=\"text-align: right;\">\n",
              "      <th></th>\n",
              "      <th>0</th>\n",
              "      <th>1</th>\n",
              "      <th>2</th>\n",
              "    </tr>\n",
              "  </thead>\n",
              "  <tbody>\n",
              "    <tr>\n",
              "      <th>Booking_ID</th>\n",
              "      <td>INN00001</td>\n",
              "      <td>INN00002</td>\n",
              "      <td>INN00003</td>\n",
              "    </tr>\n",
              "    <tr>\n",
              "      <th>no_of_adults</th>\n",
              "      <td>2</td>\n",
              "      <td>2</td>\n",
              "      <td>1</td>\n",
              "    </tr>\n",
              "    <tr>\n",
              "      <th>no_of_children</th>\n",
              "      <td>0</td>\n",
              "      <td>0</td>\n",
              "      <td>0</td>\n",
              "    </tr>\n",
              "    <tr>\n",
              "      <th>no_of_weekend_nights</th>\n",
              "      <td>1</td>\n",
              "      <td>2</td>\n",
              "      <td>2</td>\n",
              "    </tr>\n",
              "    <tr>\n",
              "      <th>no_of_week_nights</th>\n",
              "      <td>2</td>\n",
              "      <td>3</td>\n",
              "      <td>1</td>\n",
              "    </tr>\n",
              "    <tr>\n",
              "      <th>type_of_meal_plan</th>\n",
              "      <td>Meal Plan 1</td>\n",
              "      <td>Not Selected</td>\n",
              "      <td>Meal Plan 1</td>\n",
              "    </tr>\n",
              "    <tr>\n",
              "      <th>required_car_parking_space</th>\n",
              "      <td>0</td>\n",
              "      <td>0</td>\n",
              "      <td>0</td>\n",
              "    </tr>\n",
              "    <tr>\n",
              "      <th>room_type_reserved</th>\n",
              "      <td>Room_Type 1</td>\n",
              "      <td>Room_Type 1</td>\n",
              "      <td>Room_Type 1</td>\n",
              "    </tr>\n",
              "    <tr>\n",
              "      <th>lead_time</th>\n",
              "      <td>224</td>\n",
              "      <td>5</td>\n",
              "      <td>1</td>\n",
              "    </tr>\n",
              "    <tr>\n",
              "      <th>arrival_year</th>\n",
              "      <td>2017</td>\n",
              "      <td>2018</td>\n",
              "      <td>2018</td>\n",
              "    </tr>\n",
              "    <tr>\n",
              "      <th>arrival_month</th>\n",
              "      <td>10</td>\n",
              "      <td>11</td>\n",
              "      <td>2</td>\n",
              "    </tr>\n",
              "    <tr>\n",
              "      <th>arrival_date</th>\n",
              "      <td>2</td>\n",
              "      <td>6</td>\n",
              "      <td>28</td>\n",
              "    </tr>\n",
              "    <tr>\n",
              "      <th>market_segment_type</th>\n",
              "      <td>Offline</td>\n",
              "      <td>Online</td>\n",
              "      <td>Online</td>\n",
              "    </tr>\n",
              "    <tr>\n",
              "      <th>repeated_guest</th>\n",
              "      <td>0</td>\n",
              "      <td>0</td>\n",
              "      <td>0</td>\n",
              "    </tr>\n",
              "    <tr>\n",
              "      <th>no_of_previous_cancellations</th>\n",
              "      <td>0</td>\n",
              "      <td>0</td>\n",
              "      <td>0</td>\n",
              "    </tr>\n",
              "    <tr>\n",
              "      <th>no_of_previous_bookings_not_canceled</th>\n",
              "      <td>0</td>\n",
              "      <td>0</td>\n",
              "      <td>0</td>\n",
              "    </tr>\n",
              "    <tr>\n",
              "      <th>avg_price_per_room</th>\n",
              "      <td>65.0</td>\n",
              "      <td>106.68</td>\n",
              "      <td>60.0</td>\n",
              "    </tr>\n",
              "    <tr>\n",
              "      <th>no_of_special_requests</th>\n",
              "      <td>0</td>\n",
              "      <td>1</td>\n",
              "      <td>0</td>\n",
              "    </tr>\n",
              "    <tr>\n",
              "      <th>booking_status</th>\n",
              "      <td>Not_Canceled</td>\n",
              "      <td>Not_Canceled</td>\n",
              "      <td>Canceled</td>\n",
              "    </tr>\n",
              "  </tbody>\n",
              "</table>\n",
              "</div>"
            ],
            "text/plain": [
              "                                                 0             1            2\n",
              "Booking_ID                                INN00001      INN00002     INN00003\n",
              "no_of_adults                                     2             2            1\n",
              "no_of_children                                   0             0            0\n",
              "no_of_weekend_nights                             1             2            2\n",
              "no_of_week_nights                                2             3            1\n",
              "type_of_meal_plan                      Meal Plan 1  Not Selected  Meal Plan 1\n",
              "required_car_parking_space                       0             0            0\n",
              "room_type_reserved                     Room_Type 1   Room_Type 1  Room_Type 1\n",
              "lead_time                                      224             5            1\n",
              "arrival_year                                  2017          2018         2018\n",
              "arrival_month                                   10            11            2\n",
              "arrival_date                                     2             6           28\n",
              "market_segment_type                        Offline        Online       Online\n",
              "repeated_guest                                   0             0            0\n",
              "no_of_previous_cancellations                     0             0            0\n",
              "no_of_previous_bookings_not_canceled             0             0            0\n",
              "avg_price_per_room                            65.0        106.68         60.0\n",
              "no_of_special_requests                           0             1            0\n",
              "booking_status                        Not_Canceled  Not_Canceled     Canceled"
            ]
          },
          "execution_count": 2,
          "metadata": {},
          "output_type": "execute_result"
        }
      ],
      "source": [
        "df = pd.read_csv(\"./hotel_reservations.csv\")\n",
        "df.head(3).transpose()  # Transpose is useful because of the amount of columns"
      ]
    },
    {
      "attachments": {},
      "cell_type": "markdown",
      "metadata": {},
      "source": [
        "It's time for the analysis!\n",
        "\n",
        "Let's see what kind of data our attributes hold:\n"
      ]
    },
    {
      "cell_type": "code",
      "execution_count": 3,
      "metadata": {},
      "outputs": [
        {
          "name": "stdout",
          "output_type": "stream",
          "text": [
            "<class 'pandas.core.frame.DataFrame'>\n",
            "RangeIndex: 36275 entries, 0 to 36274\n",
            "Data columns (total 19 columns):\n",
            " #   Column                                Non-Null Count  Dtype  \n",
            "---  ------                                --------------  -----  \n",
            " 0   Booking_ID                            36275 non-null  object \n",
            " 1   no_of_adults                          36275 non-null  int64  \n",
            " 2   no_of_children                        36275 non-null  int64  \n",
            " 3   no_of_weekend_nights                  36275 non-null  int64  \n",
            " 4   no_of_week_nights                     36275 non-null  int64  \n",
            " 5   type_of_meal_plan                     36275 non-null  object \n",
            " 6   required_car_parking_space            36275 non-null  int64  \n",
            " 7   room_type_reserved                    36275 non-null  object \n",
            " 8   lead_time                             36275 non-null  int64  \n",
            " 9   arrival_year                          36275 non-null  int64  \n",
            " 10  arrival_month                         36275 non-null  int64  \n",
            " 11  arrival_date                          36275 non-null  int64  \n",
            " 12  market_segment_type                   36275 non-null  object \n",
            " 13  repeated_guest                        36275 non-null  int64  \n",
            " 14  no_of_previous_cancellations          36275 non-null  int64  \n",
            " 15  no_of_previous_bookings_not_canceled  36275 non-null  int64  \n",
            " 16  avg_price_per_room                    36275 non-null  float64\n",
            " 17  no_of_special_requests                36275 non-null  int64  \n",
            " 18  booking_status                        36275 non-null  object \n",
            "dtypes: float64(1), int64(13), object(5)\n",
            "memory usage: 5.3+ MB\n"
          ]
        }
      ],
      "source": [
        "df.info()"
      ]
    },
    {
      "attachments": {},
      "cell_type": "markdown",
      "metadata": {},
      "source": [
        "Two important things to note:\n",
        "\n",
        "1. There aren't `null` values on the dataset, which eliminates the need of treatment for it.\n",
        "\n",
        "2. Some of these features are categorical (`<object>`). We're going to see what is inside these features.\n"
      ]
    },
    {
      "cell_type": "code",
      "execution_count": 4,
      "metadata": {},
      "outputs": [
        {
          "name": "stdout",
          "output_type": "stream",
          "text": [
            "Booking_ID: (36275 distinct) <INN00001>, <INN00002>, <INN00003>, <INN00004>, <INN00005>, ...\n",
            "type_of_meal_plan: (4 distinct) <Meal Plan 1>, <Meal Plan 2>, <Meal Plan 3>, <Not Selected>\n",
            "room_type_reserved: (7 distinct) <Room_Type 1>, <Room_Type 2>, <Room_Type 3>, <Room_Type 4>, <Room_Type 5>, ...\n",
            "market_segment_type: (5 distinct) <Aviation>, <Complementary>, <Corporate>, <Offline>, <Online>, ...\n",
            "booking_status: (2 distinct) <Canceled>, <Not_Canceled>\n"
          ]
        }
      ],
      "source": [
        "n_top_values = 5\n",
        "for col in df.select_dtypes(include=\"object\"):\n",
        "    unique_values = df[col].nunique()\n",
        "    top_values = sorted(df[col].unique())[:n_top_values]\n",
        "    top_values_str = \", \".join([f\"<{v}>\" for v in top_values])\n",
        "    print(\n",
        "        f\"{col}: ({unique_values} distinct) {top_values_str + ', ...' if len(top_values) == n_top_values else top_values_str}\"\n",
        "    )"
      ]
    },
    {
      "attachments": {},
      "cell_type": "markdown",
      "metadata": {},
      "source": [
        "The `Booking_ID` is meaningless for our algorithms, so we can remove that column.\n",
        "\n",
        "Also, we can convert our categorical features to numerical by using some encoding. There is some methods available, such as one-hot encoding, but we're going to go with label encoding because it's simpler.\n"
      ]
    },
    {
      "cell_type": "code",
      "execution_count": 5,
      "metadata": {},
      "outputs": [],
      "source": [
        "df.drop(\"Booking_ID\", axis=1, inplace=True)\n",
        "\n",
        "# Identify categorical columns\n",
        "cat_cols = df.select_dtypes(include=\"object\").columns\n",
        "\n",
        "# Label encode categorical columns\n",
        "for col in cat_cols:\n",
        "    le = LabelEncoder()\n",
        "    df[col] = le.fit_transform(df[col])"
      ]
    },
    {
      "attachments": {},
      "cell_type": "markdown",
      "metadata": {},
      "source": [
        "Let's check the distribution of the feature we want to predict:\n"
      ]
    },
    {
      "cell_type": "code",
      "execution_count": 6,
      "metadata": {},
      "outputs": [
        {
          "data": {
            "text/plain": [
              "booking_status\n",
              "1    24390\n",
              "0    11885\n",
              "Name: count, dtype: int64"
            ]
          },
          "execution_count": 6,
          "metadata": {},
          "output_type": "execute_result"
        }
      ],
      "source": [
        "df[\"booking_status\"].value_counts()"
      ]
    },
    {
      "attachments": {},
      "cell_type": "markdown",
      "metadata": {},
      "source": [
        "As the number of not canceled reservations is more than twice the amount of canceled ones, we can consider this as an imbalanced dataset.\n"
      ]
    },
    {
      "attachments": {},
      "cell_type": "markdown",
      "metadata": {},
      "source": [
        "# Model Training\n"
      ]
    },
    {
      "attachments": {},
      "cell_type": "markdown",
      "metadata": {},
      "source": [
        "In this section, we are going to evaluate and comment the performance of some classification algorithms, including KNN, Naive Bayes, Logistic Regression, SVMs, among others.\n"
      ]
    },
    {
      "attachments": {},
      "cell_type": "markdown",
      "metadata": {},
      "source": [
        "## Preparing validation\n",
        "\n",
        "To validate our algorithms, we used two techniques:\n",
        "\n",
        "1. **RandomOverSampler**: As we could see in the EDA section, our dataset is imbalanced. This uses data augmentation to balance out the minority class.\n",
        "2. **StratifiedKFold**: To mitigate overfitting, we are going to measure our models using KFold with Stratification.\n"
      ]
    },
    {
      "cell_type": "code",
      "execution_count": 7,
      "metadata": {},
      "outputs": [],
      "source": [
        "X = df.drop(\"booking_status\", axis=1)\n",
        "Y = df[\"booking_status\"]\n",
        "\n",
        "ros = RandomOverSampler(random_state=0)\n",
        "X, Y = ros.fit_resample(X, Y)\n",
        "\n",
        "n_folds = 10\n",
        "kf = StratifiedKFold(n_splits=n_folds, shuffle=True, random_state=0)"
      ]
    },
    {
      "attachments": {},
      "cell_type": "markdown",
      "metadata": {},
      "source": [
        "## Creating auxiliary functions\n"
      ]
    },
    {
      "cell_type": "code",
      "execution_count": 8,
      "metadata": {},
      "outputs": [],
      "source": [
        "# Evaluate models by using cross validation\n",
        "def evaluate_model(model, model_name, frac=None):\n",
        "    start_time = time.time()\n",
        "\n",
        "    # This is need in order to SVM to run in a reasonable amount of time\n",
        "    if frac is not None:\n",
        "        X_sample, Y_sample = X.sample(frac=frac), Y.sample(frac=frac)\n",
        "    else:\n",
        "        X_sample, Y_sample = X, Y\n",
        "\n",
        "    scores = cross_val_score(model, X_sample, Y_sample, cv=kf, n_jobs=-1)\n",
        "    end_time = time.time()\n",
        "\n",
        "    print(\n",
        "        \"(%0.1fs) Accuracy with %s: %0.4f ± %0.4f\"\n",
        "        % (end_time - start_time, model_name, scores.mean(), scores.std())\n",
        "    )"
      ]
    },
    {
      "attachments": {},
      "cell_type": "markdown",
      "metadata": {},
      "source": [
        "## KNN\n"
      ]
    },
    {
      "attachments": {},
      "cell_type": "markdown",
      "metadata": {},
      "source": [
        "KNN classifies new observations by assigning them to the class of the majority of their k-nearest neighbors in the training data. Here, we try KNN with `1 <= k <= 3`. We are going to see that besides being a simple algorithm, KNN performs really pretty in this dataset, achiving a 89.4% accuracy when `k = 1`.\n"
      ]
    },
    {
      "cell_type": "code",
      "execution_count": 9,
      "metadata": {},
      "outputs": [
        {
          "name": "stdout",
          "output_type": "stream",
          "text": [
            "(2.6s) Accuracy with 1-KNN: 0.8937 ± 0.0036\n",
            "(1.7s) Accuracy with 2-KNN: 0.8501 ± 0.0030\n",
            "(1.8s) Accuracy with 3-KNN: 0.8388 ± 0.0038\n"
          ]
        }
      ],
      "source": [
        "for i in range(1, 4):\n",
        "    knn = KNeighborsClassifier(n_neighbors=i)\n",
        "    evaluate_model(knn, f\"{i}-KNN\")"
      ]
    },
    {
      "attachments": {},
      "cell_type": "markdown",
      "metadata": {},
      "source": [
        "## Naive Bayes\n"
      ]
    },
    {
      "attachments": {},
      "cell_type": "markdown",
      "metadata": {},
      "source": [
        "Naive Bayes classifies new observations by assuming feature independence and using Bayes theorem to calculate conditional probabilities.\n",
        "In this dataset, there are dependence between some features (like `no_of_previous_cancellations` and `no_of_previous_bookings_not_canceled`), so without feature engineering, it performs poorly, achieving less than 57% accuracy.\n",
        "\n",
        "A interesting thing to note here is the speed: `0.2s` to run, which makes it the fastest algorithm on this analysis.\n"
      ]
    },
    {
      "cell_type": "code",
      "execution_count": 10,
      "metadata": {},
      "outputs": [
        {
          "name": "stdout",
          "output_type": "stream",
          "text": [
            "(0.2s) Accuracy with Naive Bayes: 0.5672 ± 0.0032\n"
          ]
        }
      ],
      "source": [
        "nb = GaussianNB()\n",
        "evaluate_model(nb, \"Naive Bayes\")"
      ]
    },
    {
      "attachments": {},
      "cell_type": "markdown",
      "metadata": {},
      "source": [
        "## Logistic Regression\n"
      ]
    },
    {
      "attachments": {},
      "cell_type": "markdown",
      "metadata": {},
      "source": [
        "Logistic Regression classifies new observations by estimating the probability of belonging to a certain class using a logistic function and a linear combination of the input features.\n",
        "We tried running the estimator with `max_iter=1000`, but the library warned that we didn't reach convergence, so we increased it to `5000`, achieving 77.9% accuracy.\n"
      ]
    },
    {
      "cell_type": "code",
      "execution_count": 11,
      "metadata": {},
      "outputs": [
        {
          "name": "stdout",
          "output_type": "stream",
          "text": [
            "(8.7s) Accuracy with Logistic Regression: 0.7786 ± 0.0051\n"
          ]
        }
      ],
      "source": [
        "rlog = LogisticRegression(max_iter=5000)\n",
        "evaluate_model(rlog, \"Logistic Regression\")"
      ]
    },
    {
      "attachments": {},
      "cell_type": "markdown",
      "metadata": {},
      "source": [
        "## SVM\n"
      ]
    },
    {
      "attachments": {},
      "cell_type": "markdown",
      "metadata": {},
      "source": [
        "SVM (Support Vector Machine) classifies new observations by finding the hyperplane that maximally separates the classes and assigning the observation to the class based on which side of the hyperplane it falls.\n",
        "\n",
        "It iss particularly effective in high-dimensional datasets with a low number of samples, but doesn't perform well in the opposite condition. The complexity of the algorithm makes it unsuitable for large datasets.\n",
        "\n",
        "Our dataset is considerably large for SVM, so we reduce the amount of data for training so it won't take too long.\n",
        "\n",
        "All three variations perform badly, with accuracy close to 50% - No much better than tossing a coin.\n"
      ]
    },
    {
      "cell_type": "code",
      "execution_count": 12,
      "metadata": {},
      "outputs": [
        {
          "name": "stdout",
          "output_type": "stream",
          "text": [
            "(5.6s) Accuracy with SVM Linear: 0.5148 ± 0.0107\n",
            "(6.1s) Accuracy with SVM RBF: 0.5043 ± 0.0168\n",
            "(6.2s) Accuracy with SVM Poly: 0.5148 ± 0.0140\n"
          ]
        }
      ],
      "source": [
        "svm = SVC(kernel=\"linear\")\n",
        "evaluate_model(svm, \"SVM Linear\", frac=0.1)\n",
        "\n",
        "svm_rbf = SVC(kernel=\"rbf\")\n",
        "evaluate_model(svm, \"SVM RBF\", frac=0.1)\n",
        "\n",
        "svm_poly = SVC(kernel=\"poly\", degree=3)\n",
        "evaluate_model(svm, \"SVM Poly\", frac=0.1)"
      ]
    },
    {
      "attachments": {},
      "cell_type": "markdown",
      "metadata": {},
      "source": [
        "### Decision Tree\n"
      ]
    },
    {
      "attachments": {},
      "cell_type": "markdown",
      "metadata": {},
      "source": [
        "A Decision Tree classifies new observations by making a series of binary decisions based on the values of the features, splitting the data into smaller groups until it can assign a class label to the observation based on the majority class in the smallest group.\n",
        "\n",
        "Turns out decision trees are a good fit for this dataset, with one set of parameters reaching 92.8% accuracy. They are also one of the fastest models here, running in around `0.4s`.\n"
      ]
    },
    {
      "cell_type": "code",
      "execution_count": 13,
      "metadata": {},
      "outputs": [
        {
          "name": "stdout",
          "output_type": "stream",
          "text": [
            "(0.4s) Accuracy with Decision Tree: 0.9265 ± 0.0032\n",
            "(0.4s) Accuracy with Decision Tree (criterion=entropy): 0.9284 ± 0.0026\n"
          ]
        }
      ],
      "source": [
        "dct = tree.DecisionTreeClassifier()\n",
        "evaluate_model(dct, \"Decision Tree\")\n",
        "\n",
        "dct_entropy = tree.DecisionTreeClassifier(criterion=\"entropy\")\n",
        "evaluate_model(dct_entropy, \"Decision Tree (criterion=entropy)\")"
      ]
    },
    {
      "attachments": {},
      "cell_type": "markdown",
      "metadata": {},
      "source": [
        "### Random Forest\n"
      ]
    },
    {
      "attachments": {},
      "cell_type": "markdown",
      "metadata": {},
      "source": [
        "Random Forest classifies new observations by aggregating the predictions of multiple decision trees, where each tree is trained on a random subset of features and a random sample of the training data.\n",
        "\n",
        "The final prediction is then based on the majority vote or the weighted average of the individual tree predictions. This helps to reduce overfitting and increase the accuracy and robustness of the model.\n",
        "\n",
        "As expected, this model performs better than individual decision trees, reaching 94.6% accuracy with the default parameter set! The validation time also goes up, taking `~20x` more time than individual DTs.\n"
      ]
    },
    {
      "cell_type": "code",
      "execution_count": 14,
      "metadata": {},
      "outputs": [
        {
          "name": "stdout",
          "output_type": "stream",
          "text": [
            "(8.2s) Accuracy with Random Forest: 0.9460 ± 0.0034\n"
          ]
        }
      ],
      "source": [
        "rf = RandomForestClassifier()\n",
        "evaluate_model(rf, \"Random Forest\")"
      ]
    },
    {
      "attachments": {},
      "cell_type": "markdown",
      "metadata": {},
      "source": [
        "## Additional Methods & Techniques\n"
      ]
    },
    {
      "attachments": {},
      "cell_type": "markdown",
      "metadata": {},
      "source": [
        "After successfully implementing a Random Forest model and achieving an accuracy of 94.6% in solving the machine learning problem, there are still various techniques that can be used to enhance the performance of the model. One approach is hyperparameter tuning, which involves adjusting the settings of the model to optimize its performance. This can be done by testing different values for the hyperparameters, such as the number of trees, maximum depth, and minimum samples required to split a node. By doing so, we can identify the optimal set of hyperparameters that will improve the accuracy of the model.\n",
        "\n",
        "Another technique is feature engineering, which involves creating new features or modifying existing ones to improve the accuracy of the model. This can be done by selecting the most important features, combining features to create new ones, or scaling the features to prevent bias\n"
      ]
    },
    {
      "attachments": {},
      "cell_type": "markdown",
      "metadata": {},
      "source": [
        "# Conclusion\n"
      ]
    },
    {
      "attachments": {},
      "cell_type": "markdown",
      "metadata": {},
      "source": [
        "We conducted a classification challenge to predict hotel reservation cancellations using basic data science methodology.\n",
        "\n",
        "We analyzed the dataset, performed data transformations with justifications, and developed baseline models using various classification techniques, including KNN, Naive Bayes, Logistic Regression, Naive Bayes, SVM, Decision Tree and Random Forest.\n",
        "\n",
        "Based on the evaluation metrics, we found that the `Random Forest` algorithm performed the best with an accuracy of 0.9455 ± 0.0029.\n",
        "\n",
        "This study shows the potential of classification algorithms and show ideas of further exploration of advanced techniques that could lead to improved results.\n"
      ]
    },
    {
      "attachments": {},
      "cell_type": "markdown",
      "metadata": {},
      "source": [
        "# Apprendix: Seminars Summary\n"
      ]
    },
    {
      "attachments": {},
      "cell_type": "markdown",
      "metadata": {},
      "source": [
        "## Using ML for detecting poisoned water using WiFi\n",
        "\n",
        "Beatriz Proenca presented a study on using machine learning to differentiate between clean and poisoned water using Wi-Fi signals. Four classifiers were tested, achieving high accuracy, with Adaboost performing the best at 92%.\n",
        "\n",
        "## Cancer Recurrence Prediction\n",
        "\n",
        "Diego Giaretta presented a study that used machine learning techniques to predict cancer recurrence from open databases. The study used Naive-Bayes and SVM algorithms for training and achieved 99% accuracy through SVM with K-fold cross-validation, identifying features such as age, tumor size, and receptor status. The study was structured with sections presenting concepts, methodology, results, conclusion, and next steps.\n",
        "\n",
        "## CatBoost\n",
        "\n",
        "Dikson Santos presented about CatBoost, a machine learning algorithm designed to tackle classification and regression problems. This algorithm is based on gradient boosting decision trees and is known for its ability to handle categorical features in large and complex datasets, resulting in high accuracy. During the presentation, John discussed how CatBoost compares to other popular machine learning algorithms\n"
      ]
    }
  ],
  "metadata": {
    "colab": {
      "authorship_tag": "ABX9TyOZ3zycZO5fkwSkMUkib70M",
      "include_colab_link": true,
      "provenance": [],
      "toc_visible": true
    },
    "kernelspec": {
      "display_name": "Python 3",
      "name": "python3"
    },
    "language_info": {
      "codemirror_mode": {
        "name": "ipython",
        "version": 3
      },
      "file_extension": ".py",
      "mimetype": "text/x-python",
      "name": "python",
      "nbconvert_exporter": "python",
      "pygments_lexer": "ipython3",
      "version": "3.10.6"
    }
  },
  "nbformat": 4,
  "nbformat_minor": 0
}
